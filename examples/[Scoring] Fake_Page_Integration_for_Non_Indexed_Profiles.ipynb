{
 "cells": [
  {
   "cell_type": "markdown",
   "metadata": {
    "id": "zNX_qAJQP02Q"
   },
   "source": [
    "Open this notebook in Google Colab : [![Open In Colab](https://colab.research.google.com/assets/colab-badge.svg)](https://colab.research.google.com/github/Riminder/hrflow-cookbook/blob/feature/fake-page-integration-for-non-indexed-profiles/examples/%5BScoring%5D%20Fake_Page_Integration_for_Non_Indexed_Profiles.ipynb)"
   ]
  },
  {
   "cell_type": "markdown",
   "metadata": {
    "id": "AZdfdAQSt7hZ"
   },
   "source": [
    "##### Copyright 2023 HrFlow's AI Research Department\n",
    "\n",
    "Licensed under the Apache License, Version 2.0 (the \"License\");"
   ]
  },
  {
   "cell_type": "code",
   "execution_count": null,
   "metadata": {
    "id": "QNgz5iA-uD4E"
   },
   "outputs": [],
   "source": [
    "# Copyright 2023 HrFlow's AI Research Department. All Rights Reserved.\n",
    "#\n",
    "# Licensed under the Apache License, Version 2.0 (the \"License\");\n",
    "# you may not use this file except in compliance with the License.\n",
    "# You may obtain a copy of the License at\n",
    "#\n",
    "#     http://www.apache.org/licenses/LICENSE-2.0\n",
    "#\n",
    "# Unless required by applicable law or agreed to in writing, software\n",
    "# distributed under the License is distributed on an \"AS IS\" BASIS,\n",
    "# WITHOUT WARRANTIES OR CONDITIONS OF ANY KIND, either express or implied.\n",
    "# See the License for the specific language governing permissions and\n",
    "# limitations under the License.\n",
    "# =============================================================================="
   ]
  },
  {
   "cell_type": "markdown",
   "metadata": {
    "id": "PfFOG5klschh"
   },
   "source": [
    "**Welcome to this Google Colaboratory tutorial for developers!**\n",
    "This notebook is designed to help you tackle the challenge of **non-indexed profiles** by enhancing resumes that lack personal information. **In just 3 simple steps**, you'll learn how to add a customized fake page with placeholder personal details to ensure resumes can be properly indexed and processed.\n",
    "\n",
    "Here’s a quick overview of the notebook's workflow:\n",
    "\n",
    "1. **🛠 Upload Resume:** Upload the resume you want to add a fake page.\n",
    "2. **👷 Generate Fake Page:** Add a new page to the resume containing personal information.\n",
    "3. **📝 Upload to HrFlow Source:** Send the resume to a specified HrFlow Source."
   ]
  },
  {
   "cell_type": "markdown",
   "metadata": {
    "id": "Y6_c0izEXfLX"
   },
   "source": [
    "# Getting Started"
   ]
  },
  {
   "cell_type": "code",
   "execution_count": null,
   "metadata": {
    "id": "2_3diMbMYgaA"
   },
   "outputs": [],
   "source": [
    "!pip install --quiet hrflow pymupdf faker"
   ]
  },
  {
   "cell_type": "code",
   "execution_count": null,
   "metadata": {
    "colab": {
     "base_uri": "https://localhost:8080/"
    },
    "id": "GG8ZjRi2Ygdg",
    "outputId": "0e77ca9f-9cc9-44b7-fd14-489388419c13"
   },
   "outputs": [],
   "source": [
    "from functools import wraps\n",
    "from getpass import getpass\n",
    "from hrflow import Hrflow\n",
    "from time import time, sleep\n",
    "from tqdm.notebook import tqdm\n",
    "import fitz\n",
    "from IPython.display import Image\n",
    "from faker import Faker\n",
    "\n",
    "API_SECRET = getpass(\"YOUR_API_SECRET\")\n",
    "API_USER = getpass(\"USER@EMAIL.DOMAIN\")\n",
    "SOURCE_KEY = getpass(\"YOUR_SOURCE_KEY\")\n",
    "\n",
    "\n",
    "client = Hrflow(api_secret=API_SECRET, api_user=API_USER)"
   ]
  },
  {
   "cell_type": "markdown",
   "metadata": {
    "id": "FNsWVTmRePKw"
   },
   "source": [
    "# 1. **🛠 Upload Resume:**"
   ]
  },
  {
   "cell_type": "code",
   "execution_count": null,
   "metadata": {
    "colab": {
     "base_uri": "https://localhost:8080/",
     "height": 73
    },
    "id": "yX2SEQGwd5Ax",
    "outputId": "d8bb744b-8f42-4816-88fc-c65b93f32101"
   },
   "outputs": [],
   "source": [
    "from google.colab import files\n",
    "binary_cv = list(files.upload().values())[0]"
   ]
  },
  {
   "cell_type": "markdown",
   "metadata": {
    "id": "JpCUx_FmP02U"
   },
   "source": [
    "# 2. **👷 Generate Fake Page:**"
   ]
  },
  {
   "cell_type": "markdown",
   "metadata": {
    "id": "RbxJk5tZP02V"
   },
   "source": [
    "**Using a dictionary of personal information, this tutorial enables you to prepend a new page to a resume that lists these details clearly and professionally.**\n"
   ]
  },
  {
   "cell_type": "code",
   "execution_count": null,
   "metadata": {
    "id": "1kGNsLzHP02V"
   },
   "outputs": [],
   "source": [
    "fake = Faker()\n",
    "\n",
    "fake_profile_info = {\n",
    "    \"full_name\": fake.name(),\n",
    "    \"email\":  fake.email(),\n",
    "    \"phone\": fake.phone_number(),\n",
    "    \"address\": {\"text\": fake.address()},\n",
    "\n",
    "}\n"
   ]
  },
  {
   "cell_type": "code",
   "execution_count": null,
   "metadata": {
    "id": "-V5nrggEYn41"
   },
   "outputs": [],
   "source": [
    "X_MARGIN = 72\n",
    "Y_MARGIN = 50\n",
    "TITLE_FONTSIZE = 14\n",
    "LABEL_FONTSIZE = 12\n",
    "VALUE_FONTSIZE = 12\n",
    "LINE_SPACING = 15\n",
    "WIDTH = 595\n",
    "HEIGHT = 842\n",
    "\n",
    "def wrap_text(text, font_size, max_width, x_margin):\n",
    "    \"\"\"\n",
    "      Splits a block of text into multiple lines to fit within a specified width for PDF rendering.\n",
    "\n",
    "      Inputs:\n",
    "          - text (str): The text to be wrapped.\n",
    "          - font_size (int): Font size to use for calculating text width.\n",
    "          - max_width (float): Maximum width of the text area.\n",
    "          - x_margin (float): Margin from the left edge of the page to the start of the text.\n",
    "\n",
    "      Outputs:\n",
    "          - lines (list of str): List of strings, each representing a line that fits within the specified width.\n",
    "    \"\"\"\n",
    "    words = text.split()\n",
    "    lines = []\n",
    "    current_line = words[0]\n",
    "\n",
    "    for word in words[1:]:\n",
    "        test_line = f\"{current_line} {word}\"\n",
    "        text_width = fitz.get_text_length(test_line, fontsize=font_size, fontname=\"helv\")\n",
    "        if text_width <= max_width-x_margin:\n",
    "            current_line = test_line\n",
    "        else:\n",
    "            lines.append(current_line)\n",
    "            current_line = word\n",
    "\n",
    "    lines.append(current_line)\n",
    "    return lines\n",
    "\n",
    "\n",
    "def add_fake_page(file, profile_dict_fake_fields, position=\"append\"):\n",
    "    \"\"\"\n",
    "      Generates a new PDF page with fake personal information and appends it to an existing document.\n",
    "\n",
    "      Inputs:\n",
    "          - file (bytes): The binary content of the existing PDF file to which the new page will be added.\n",
    "          - profile_dict_fake_fields (dict): Dictionary containing fake personal information. Keys represent field names, and values are strings or dictionaries.\n",
    "          - position (str): Specifies where to insert the fake page, either \"append\" (default) or \"prefix\".\n",
    "\n",
    "      Outputs:\n",
    "          - fake_binary_cv (bytes): The binary content of the PDF document with the added page.\n",
    "    \"\"\"\n",
    "    # Define page margins\n",
    "    x_margin = X_MARGIN\n",
    "    y_margin = Y_MARGIN\n",
    "    # Define font sizes and line spacing\n",
    "    title_fontsize = TITLE_FONTSIZE\n",
    "    label_fontsize = LABEL_FONTSIZE\n",
    "    value_fontsize = VALUE_FONTSIZE\n",
    "    line_spacing = LINE_SPACING\n",
    "\n",
    "\n",
    "    pdf_document = fitz.open('pdf', file)\n",
    "\n",
    "    if pdf_document.page_count > 0:\n",
    "        reference_page = pdf_document[0]\n",
    "        width, height = reference_page.rect.width, reference_page.rect.height\n",
    "    else:\n",
    "        width, height = WIDTH, HEIGHT\n",
    "\n",
    "    new_page = pdf_document.new_page(-1 if position == \"append\" else 0, width=width, height=height)\n",
    "\n",
    "    max_width = width - 2 * x_margin\n",
    "\n",
    "    # Title\n",
    "    y_offset = y_margin\n",
    "    new_page.insert_text(\n",
    "        point=(x_margin, y_offset),\n",
    "        text=\"Personal Information\",\n",
    "        fontsize=title_fontsize,\n",
    "        fontname=\"helv\",\n",
    "        color=(0, 0, 1)  # Blue\n",
    "    )\n",
    "    y_offset += 2 * line_spacing\n",
    "\n",
    "    for key, value in profile_dict_fake_fields.items():\n",
    "        if key == \"address\":\n",
    "            value = value.get('text', 'N/A')\n",
    "\n",
    "        label = key.replace(\"_\", \" \").capitalize() + \":\"\n",
    "\n",
    "        if isinstance(value, dict):\n",
    "            value = value.get('text', 'N/A')\n",
    "\n",
    "        value = str(value) if value else \"N/A\"\n",
    "\n",
    "        # Add label\n",
    "        new_page.insert_text(\n",
    "            point=(x_margin, y_offset),\n",
    "            text=label,\n",
    "            fontsize=label_fontsize,\n",
    "            fontname=\"helv\",\n",
    "            color=(0, 0, 0)\n",
    "        )\n",
    "\n",
    "        # Wrap and add value text\n",
    "        wrapped_lines = wrap_text(value, value_fontsize, max_width, x_margin)\n",
    "        for line in wrapped_lines:\n",
    "            new_page.insert_text(\n",
    "                point=(x_margin + 150, y_offset),\n",
    "                text=line,\n",
    "                fontsize=value_fontsize,\n",
    "                fontname=\"helv\",\n",
    "                color=(0.2, 0.2, 0.2)\n",
    "            )\n",
    "            y_offset += line_spacing\n",
    "\n",
    "\n",
    "        y_offset += line_spacing\n",
    "\n",
    "        if y_offset + line_spacing > height - y_margin:\n",
    "            print(\"Warning: Not enough space on the page. Truncation may occur.\")\n",
    "            break\n",
    "\n",
    "    fake_binary_cv = pdf_document.tobytes()\n",
    "    pdf_document.close()\n",
    "    return fake_binary_cv"
   ]
  },
  {
   "cell_type": "code",
   "execution_count": null,
   "metadata": {
    "id": "dSLvHGhdejED"
   },
   "outputs": [],
   "source": [
    "# Add fake page\n",
    "fake_binary_cv = add_fake_page(binary_cv, fake_profile_info)"
   ]
  },
  {
   "cell_type": "code",
   "execution_count": null,
   "metadata": {
    "colab": {
     "base_uri": "https://localhost:8080/",
     "height": 859
    },
    "id": "-2YeV4eLkSmN",
    "outputId": "23ed5b84-238c-4e19-99d2-25251e523274"
   },
   "outputs": [],
   "source": [
    "# Display added Image\n",
    "fake_cv = fitz.open(\"pdf\", fake_binary_cv)\n",
    "\n",
    "first_page_img = fake_cv[0].get_pixmap().tobytes()\n",
    "\n",
    "Image(first_page_img)"
   ]
  },
  {
   "cell_type": "markdown",
   "metadata": {
    "id": "WLmsizVNf6YG"
   },
   "source": [
    "# 3. **📝 Upload to HrFlow Source:**"
   ]
  },
  {
   "cell_type": "code",
   "execution_count": null,
   "metadata": {
    "id": "NwJVSDinf-wJ"
   },
   "outputs": [],
   "source": [
    "client.profile.parsing.add_file(SOURCE_KEY, profile_file=fake_binary_cv, reference='resume_with_fake_page')"
   ]
  },
  {
   "cell_type": "code",
   "execution_count": null,
   "metadata": {
    "colab": {
     "base_uri": "https://localhost:8080/"
    },
    "id": "JBaDdgzjxaM3",
    "outputId": "4561eb81-61ef-47cb-a6e1-83c03383948e"
   },
   "outputs": [],
   "source": [
    "# If the source you are using operates synchronously, you can use the code below to verify the content.\n",
    "# For asynchronous sources, parsing the CV could take some time.\n",
    "\n",
    "output = client.profile.storing.get(SOURCE_KEY, reference='resume_with_fake_page')['data']\n",
    "\n",
    "print(\"Full Name:\", output['info']['full_name'])\n",
    "print(\"Email:\", output['info']['email'])\n",
    "print(\"Phone:\", output['info']['phone'])"
   ]
  }
 ],
 "metadata": {
  "colab": {
   "provenance": []
  },
  "kernelspec": {
   "display_name": "Python 3",
   "name": "python3"
  },
  "language_info": {
   "codemirror_mode": {
    "name": "ipython",
    "version": 3
   },
   "file_extension": ".py",
   "mimetype": "text/x-python",
   "name": "python",
   "nbconvert_exporter": "python",
   "pygments_lexer": "ipython3",
   "version": "3.10.13"
  }
 },
 "nbformat": 4,
 "nbformat_minor": 0
}
