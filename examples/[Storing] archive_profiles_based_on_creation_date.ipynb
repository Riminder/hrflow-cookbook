{
 "cells": [
  {
   "cell_type": "markdown",
   "metadata": {},
   "source": [
    "Open this notebook in Google Colab : [![Open In Colab](https://colab.research.google.com/assets/colab-badge.svg)](https://colab.research.google.com/github/Riminder/hrflow-cookbook/blob/main/examples/%5BStoring%5D%20archive_profiles_based_on_creation_date.ipynb)"
   ]
  },
  {
   "cell_type": "code",
   "execution_count": 1,
   "metadata": {},
   "outputs": [],
   "source": [
    "# Copyright 2023 HrFlow's AI Research Department. All Rights Reserved.\n",
    "#\n",
    "# Licensed under the Apache License, Version 2.0 (the \"License\");\n",
    "# you may not use this file except in compliance with the License.\n",
    "# You may obtain a copy of the License at\n",
    "#\n",
    "#     http://www.apache.org/licenses/LICENSE-2.0\n",
    "#\n",
    "# Unless required by applicable law or agreed to in writing, software\n",
    "# distributed under the License is distributed on an \"AS IS\" BASIS,\n",
    "# WITHOUT WARRANTIES OR CONDITIONS OF ANY KIND, either express or implied.\n",
    "# See the License for the specific language governing permissions and\n",
    "# limitations under the License.\n",
    "# =============================================================================="
   ]
  },
  {
   "cell_type": "markdown",
   "metadata": {},
   "source": [
    "**Welcome to this Google Colaboratory tutorial!** This notebook guides you through archiving profiles in an Hrflow source based on how long they’ve been stored.\n",
    "\n",
    "Here’s a quick summary of the workflow:\n",
    "\n",
    "* 📥 Get profiles: Retrieve all profiles from the source.\n",
    "* ⏳ Calculate duration: Determine the age of each profile in the source.\n",
    "* 🗃️ Archive profiles: Archive profiles older than the specified duration."
   ]
  },
  {
   "cell_type": "code",
   "execution_count": null,
   "metadata": {},
   "outputs": [],
   "source": [
    "!pip install --quiet hrflow requests tqdm"
   ]
  },
  {
   "cell_type": "code",
   "execution_count": 2,
   "metadata": {},
   "outputs": [],
   "source": [
    "import re\n",
    "from hrflow import Hrflow\n",
    "from tqdm import tqdm\n",
    "from hrflow.utils import get_all_profiles\n",
    "from datetime import datetime, timezone\n",
    "from getpass import getpass\n",
    "\n",
    "API_SECRET = getpass(\"YOUR_API_SECRET\")\n",
    "API_USER = getpass(\"USER@EMAIL.DOMAIN\")\n",
    "SOURCE_KEY = getpass(\"YOUR_SOURCE_KEY\")\n",
    "MIN_DURATION = getpass(\"YOUR_DURATION\")"
   ]
  },
  {
   "cell_type": "code",
   "execution_count": null,
   "metadata": {},
   "outputs": [],
   "source": [
    "hrflow_client = Hrflow(api_secret=API_SECRET, api_user=API_USER)"
   ]
  },
  {
   "cell_type": "code",
   "execution_count": null,
   "metadata": {},
   "outputs": [],
   "source": [
    "def calculate_duration_in_years(input_date):\n",
    "    \"\"\"\n",
    "    Calculate the duration in decimal years between now and the input date.\n",
    "\n",
    "    Args:\n",
    "        input_date (str): Date string in the format \"YYYY-MM-DDTHH:MM:SS[+0000|Z]\".\n",
    "\n",
    "    Returns:\n",
    "        float: Duration in decimal years.\n",
    "    \"\"\"\n",
    "    try:\n",
    "        if input_date.endswith(\"Z\"):\n",
    "            input_date = input_date.replace(\"Z\", \"+0000\")\n",
    "        \n",
    "        input_datetime = datetime.strptime(input_date, \"%Y-%m-%dT%H:%M:%S%z\")\n",
    "        now = datetime.now(timezone.utc)\n",
    "        duration_seconds = abs((now - input_datetime).total_seconds())\n",
    "        decimal_years = duration_seconds / (365.25 * 24 * 3600)\n",
    "        return round(decimal_years, 6)\n",
    "    except Exception as e:\n",
    "        print(f\"Error: {str(e)}. Expected format: 'YYYY-MM-DDTHH:MM:SS[+0000|Z]'.\")\n",
    "        return \n",
    "\n",
    "def convert_to_decimal_years(period):\n",
    "    \"\"\"\n",
    "    Convert a duration string (e.g., '2y', '6m', '3w', '10d') into decimal years.\n",
    "\n",
    "    Args:\n",
    "        period (str): Duration string in the format 'Xy' (years), 'Xm' (months),\n",
    "                      'Xw' (weeks), or 'Xd' (days).\n",
    "\n",
    "    Returns:\n",
    "        float: Equivalent duration in decimal years.\n",
    "    \"\"\"\n",
    "    match = re.match(r'(\\d+)(y|m|w|d)', period.strip().lower())\n",
    "    if not match:\n",
    "        raise ValueError(f\"Invalid period format: {period}. Use 'Xy' for years, 'Xm' for months, 'Xw' for weeks, or 'Xd' for days.\")\n",
    "    \n",
    "    value, unit = match.groups()\n",
    "    value = int(value)\n",
    "    \n",
    "    if unit == 'y':\n",
    "        return float(value)  # Directly return years as decimal years\n",
    "    elif unit == 'm':\n",
    "        return value / 12  # Convert months to years (e.g., 6 months = 0.5 years)\n",
    "    elif unit == 'w':\n",
    "        return value / 52.1775  # Convert weeks to years (e.g., 1 week ≈ 0.019 years)\n",
    "    elif unit == 'd':\n",
    "        return value / 365.25  # Convert days to years (e.g., 1 day ≈ 0.0027 years)"
   ]
  },
  {
   "cell_type": "code",
   "execution_count": null,
   "metadata": {},
   "outputs": [],
   "source": [
    "min_duration_decimal = convert_to_decimal_years(MIN_DURATION)"
   ]
  },
  {
   "cell_type": "code",
   "execution_count": null,
   "metadata": {},
   "outputs": [],
   "source": [
    "\n",
    "profiles = get_all_profiles(hrflow_client, source_key=SOURCE_KEY)\n",
    "failed = []\n",
    "profiles_to_archive = []\n",
    "\n",
    "for profile in tqdm(profiles):\n",
    "    duration = calculate_duration_in_years(profile[\"created_at\"])\n",
    "    if duration and duration > min_duration_decimal:\n",
    "        profiles_to_archive.append(profile)"
   ]
  },
  {
   "cell_type": "code",
   "execution_count": null,
   "metadata": {},
   "outputs": [],
   "source": [
    "for profile in tqdm(profiles_to_archive):\n",
    "    response = hrflow_client.profile.storing.archive(source_key=SOURCE_KEY, key=profile[\"key\"])\n",
    "    if response[\"code\"] != 200:\n",
    "        print(f\"Failed to archive profile with error: {response}\")\n",
    "        failed.append(profile)"
   ]
  },
  {
   "cell_type": "code",
   "execution_count": null,
   "metadata": {},
   "outputs": [],
   "source": [
    "len_profiles_archived = len(profiles_to_archive) - len(failed)\n",
    "failed_keys = [profile[\"key\"] for profile in failed]\n",
    "\n",
    "print(f\"Number of profiles archived: {len_profiles_archived}\")\n",
    "print(f\"Failed profiles: {failed_keys}\")"
   ]
  }
 ],
 "metadata": {
  "kernelspec": {
   "display_name": "customers_env",
   "language": "python",
   "name": "python3"
  },
  "language_info": {
   "codemirror_mode": {
    "name": "ipython",
    "version": 3
   },
   "file_extension": ".py",
   "mimetype": "text/x-python",
   "name": "python",
   "nbconvert_exporter": "python",
   "pygments_lexer": "ipython3",
   "version": "3.11.4"
  }
 },
 "nbformat": 4,
 "nbformat_minor": 2
}
