{
 "cells": [
  {
   "cell_type": "markdown",
   "metadata": {},
   "source": [
    "Open this notebook in Google Colab : [![Open In Colab](https://colab.research.google.com/assets/colab-badge.svg)](https://colab.research.google.com/github/Riminder/hrflow-cookbook/blob/main/examples/%5BTagging%5D%20ocr_and_categorize_a_document.ipynb)"
   ]
  },
  {
   "cell_type": "code",
   "execution_count": 1,
   "metadata": {},
   "outputs": [],
   "source": [
    "# Copyright 2023 HrFlow's AI Research Department. All Rights Reserved.\n",
    "#\n",
    "# Licensed under the Apache License, Version 2.0 (the \"License\");\n",
    "# you may not use this file except in compliance with the License.\n",
    "# You may obtain a copy of the License at\n",
    "#\n",
    "#     http://www.apache.org/licenses/LICENSE-2.0\n",
    "#\n",
    "# Unless required by applicable law or agreed to in writing, software\n",
    "# distributed under the License is distributed on an \"AS IS\" BASIS,\n",
    "# WITHOUT WARRANTIES OR CONDITIONS OF ANY KIND, either express or implied.\n",
    "# See the License for the specific language governing permissions and\n",
    "# limitations under the License.\n",
    "# =============================================================================="
   ]
  },
  {
   "cell_type": "markdown",
   "metadata": {},
   "source": [
    "**Welcome to this Google Colaboratory tutorial!** This notebook is designed to help you tackle the challenge of categorizing HR documents by using our ocr and tagging APIs.\n",
    "\n",
    "Here’s a quick overview of the notebook's workflow:\n",
    "\n",
    "* 🛠 Upload File: Upload the file you want to categorized.\n",
    "* 👷 Ocr the document: apply hrflow ocr api's to ocr the document.\n",
    "* 📝 Tag the text of the document: apply hrflow dynamic tagging to categorize the document."
   ]
  },
  {
   "cell_type": "code",
   "execution_count": null,
   "metadata": {},
   "outputs": [],
   "source": [
    "!pip install --quiet requests tqdm hrflow"
   ]
  },
  {
   "cell_type": "code",
   "execution_count": 2,
   "metadata": {},
   "outputs": [],
   "source": [
    "import requests\n",
    "import os\n",
    "import requests\n",
    "from getpass import getpass\n",
    "from tqdm import tqdm\n",
    "from hrflow import Hrflow\n",
    "from google.colab import files \n",
    "\n",
    "failed = []\n",
    "OCR_URL = \"https://api.hrflow.ai/v1/text/ocr\"\n",
    "LABELS = [\"resume\", \"coverletter\", \"references\", \"diploma\", \"certificate\", \"permit\", \"license\", \"passport\"]\n",
    "CONTEXT = \"Given the following text extracted via OCR, categorize it into one of the provided categories. If the text doesn't fit any category, return 'Other'.\"\n",
    "\n",
    "API_SECRET = getpass(\"YOUR_API_SECRET\")\n",
    "API_USER = getpass(\"USER@EMAIL.DOMAIN\")"
   ]
  },
  {
   "cell_type": "code",
   "execution_count": null,
   "metadata": {},
   "outputs": [],
   "source": [
    "def upload_files_colab():\n",
    "    print(\"Please select the files to upload:\")\n",
    "    uploaded_files = files.upload()  \n",
    "    uploaded_file_paths = []\n",
    "\n",
    "    for file_name in uploaded_files.keys():\n",
    "        file_path = os.path.join(\"/content\", file_name)\n",
    "        with open(file_path, \"wb\") as f:\n",
    "            f.write(uploaded_files[file_name])\n",
    "        uploaded_file_paths.append(file_path)\n",
    "    \n",
    "    return uploaded_file_paths"
   ]
  },
  {
   "cell_type": "code",
   "execution_count": null,
   "metadata": {},
   "outputs": [],
   "source": [
    "# Upload files and store their paths\n",
    "files_list = upload_files_colab()\n",
    "print(f\"Uploaded files: {files_list}\")"
   ]
  },
  {
   "cell_type": "code",
   "execution_count": null,
   "metadata": {},
   "outputs": [],
   "source": [
    "def tagger(api_secret,api_user,text,labels,context=\"\"):\n",
    "    url = \"https://api.hrflow.ai/v1/text/tagging\"\n",
    "\n",
    "    payload = {\n",
    "        \"algorithm_key\": \"tagger-hrflow-dynamic\",\n",
    "        \"texts\": [text],\n",
    "        \"dynamic_labels\": labels,\n",
    "        \"top_n\": 1,\n",
    "        \"dynamic_context\": context\n",
    "    }\n",
    "    headers = {\n",
    "        \"accept\": \"application/json\",\n",
    "        \"content-type\": \"application/json\",\n",
    "        \"X-API-KEY\": api_secret,\n",
    "        \"X-USER-EMAIL\": api_user,\n",
    "    }\n",
    "\n",
    "    response = requests.post(url, json=payload, headers=headers)\n",
    "    if response.status_code != 200:\n",
    "        print(f\"HTTP error: {response.status_code}\")\n",
    "        return None\n",
    "\n",
    "    response_data = response.json()\n",
    "    if (len(response_data[\"data\"]) > 0 and isinstance(response_data[\"data\"][0], dict) and \n",
    "    \"tags\" in response_data[\"data\"][0] and isinstance(response_data[\"data\"][0][\"tags\"], list) and \n",
    "    len(response_data[\"data\"][0][\"tags\"]) > 0):\n",
    "        tag = response_data[\"data\"][0][\"tags\"][0]\n",
    "    else:\n",
    "        tag = None  \n",
    "    return tag"
   ]
  },
  {
   "cell_type": "code",
   "execution_count": null,
   "metadata": {},
   "outputs": [],
   "source": [
    "for file_path in tqdm(files_list):\n",
    "    filename = os.path.basename(file_path)\n",
    "    try:\n",
    "        with open(file_path, \"rb\") as file:\n",
    "            payload = {}\n",
    "            files = [('file', (filename, file, 'application/pdf'))]\n",
    "            \n",
    "            response = requests.request(\"POST\", OCR_URL, headers={\n",
    "                'X-USER-EMAIL': API_USER,\n",
    "                'X-API-KEY': API_SECRET\n",
    "            }, data=payload, files=files)\n",
    "        \n",
    "        text = response.json().get(\"data\", {}).get(\"text\", \"\")\n",
    "        tag = tagger(API_SECRET, API_USER, text, LABELS, context=CONTEXT)\n",
    "        print(f\"File : {file_path} -> Tag : {tag if tag else 'No categorization'}\")\n",
    "    \n",
    "    except Exception as e:\n",
    "        print(f\"Error processing file {file_path}: {e}\")\n",
    "        failed.append(file_path)\n"
   ]
  },
  {
   "cell_type": "code",
   "execution_count": null,
   "metadata": {},
   "outputs": [],
   "source": [
    "if failed:\n",
    "    print(\"\\nFiles that failed to process:\")\n",
    "    for f in failed:\n",
    "        print(f)\n",
    "else:\n",
    "    print(\"\\nAll files were processed successfully!\")"
   ]
  }
 ],
 "metadata": {
  "kernelspec": {
   "display_name": "customers_env",
   "language": "python",
   "name": "python3"
  },
  "language_info": {
   "codemirror_mode": {
    "name": "ipython",
    "version": 3
   },
   "file_extension": ".py",
   "mimetype": "text/x-python",
   "name": "python",
   "nbconvert_exporter": "python",
   "pygments_lexer": "ipython3",
   "version": "3.11.4"
  }
 },
 "nbformat": 4,
 "nbformat_minor": 2
}
