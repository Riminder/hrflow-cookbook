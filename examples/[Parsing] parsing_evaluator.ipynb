{
 "cells": [
  {
   "cell_type": "markdown",
   "metadata": {},
   "source": [
    "Open this notebook in Google Colab : [![Open In Colab](https://colab.research.google.com/assets/colab-badge.svg)](https://colab.research.google.com/github/Riminder/hrflow-cookbook/blob/main/examples/%5BParsing%5D%20parsing_evaluator.ipynb)"
   ]
  },
  {
   "cell_type": "markdown",
   "metadata": {},
   "source": [
    "##### Copyright 2024 HrFlow's AI Research Department\n",
    "\n",
    "Licensed under the Apache License, Version 2.0 (the \"License\");"
   ]
  },
  {
   "cell_type": "code",
   "execution_count": null,
   "metadata": {},
   "outputs": [],
   "source": [
    "# Copyright 2024 HrFlow's AI Research Department. All Rights Reserved.\n",
    "#\n",
    "# Licensed under the Apache License, Version 2.0 (the \"License\");\n",
    "# you may not use this file except in compliance with the License.\n",
    "# You may obtain a copy of the License at\n",
    "#\n",
    "#     http://www.apache.org/licenses/LICENSE-2.0\n",
    "#\n",
    "# Unless required by applicable law or agreed to in writing, software\n",
    "# distributed under the License is distributed on an \"AS IS\" BASIS,\n",
    "# WITHOUT WARRANTIES OR CONDITIONS OF ANY KIND, either express or implied.\n",
    "# See the License for the specific language governing permissions and\n",
    "# limitations under the License.\n",
    "# =============================================================================="
   ]
  },
  {
   "cell_type": "markdown",
   "metadata": {},
   "source": [
    "Welcome to this Google Colaboratory tutorial for developers. This Jupyter notebook is crafted to streamline **the evaluation of CV parsing** effectiveness using HrFlow's robust AI technology. It enables users to **generate a comprehensive Excel report** assessing the parsing accuracy of resumes previously processed through a specific HrFlow source."
   ]
  },
  {
   "cell_type": "markdown",
   "metadata": {},
   "source": [
    "# Getting Started"
   ]
  },
  {
   "cell_type": "code",
   "execution_count": null,
   "metadata": {},
   "outputs": [],
   "source": [
    "!pip install -q -U hrflow==3.3.0a2"
   ]
  },
  {
   "cell_type": "code",
   "execution_count": null,
   "metadata": {},
   "outputs": [],
   "source": [
    "import os\n",
    "from getpass import getpass\n",
    "from hrflow import Hrflow"
   ]
  },
  {
   "cell_type": "code",
   "execution_count": null,
   "metadata": {},
   "outputs": [],
   "source": [
    "REPORT_PATH = \"./parsing-evaluation.xlsx\"\n",
    "\n",
    "API_SECRET = getpass(\"YOUR_API_SECRET\")\n",
    "API_USER = getpass(\"USER@EMAIL.DOMAIN\")\n",
    "SOURCE_KEY = getpass(\"YOUR_SOURCE_KEY\")\n",
    "\n",
    "client = Hrflow(api_secret=API_SECRET, api_user=API_USER)"
   ]
  },
  {
   "cell_type": "markdown",
   "metadata": {},
   "source": [
    "# 0. 📥 (optional) Parse resumes and store them in a source\n",
    "\n",
    "Before we proceed, please ensure that you have :\n",
    "- **Created a source**: [Connectors Source Documentation](https://developers.hrflow.ai/docs/connectors-source)\n",
    "- **Parsed profiles and stored in this source**: You can run the following code to parse resumes and store them in a source."
   ]
  },
  {
   "cell_type": "code",
   "execution_count": null,
   "metadata": {},
   "outputs": [],
   "source": [
    "STORAGE_DIRECTORY_PATH = \"./resumes\" # FILL ME with the path where you have your resumes\n",
    "FAILURES_DIRECTORY_PATH = \"./failures\" # FILL ME with the path where you want to store the failures\n",
    "\n",
    "os.makedirs(STORAGE_DIRECTORY_PATH, exist_ok=True)\n",
    "os.makedirs(FAILURES_DIRECTORY_PATH, exist_ok=True)"
   ]
  },
  {
   "cell_type": "code",
   "execution_count": null,
   "metadata": {},
   "outputs": [],
   "source": [
    "results = client.profile.parsing.add_folder(\n",
    "    source_key=SOURCE_KEY,\n",
    "    dir_path=STORAGE_DIRECTORY_PATH,\n",
    "    is_recurcive=True,\n",
    "    move_failure_to=FAILURES_DIRECTORY_PATH,\n",
    "    show_progress=True,\n",
    "    max_requests_per_minute=30,\n",
    "    min_sleep_per_request=1,\n",
    ")"
   ]
  },
  {
   "cell_type": "markdown",
   "metadata": {},
   "source": [
    "# 1. ⭐ Profile Evaluation and Generate Excel Report\n",
    "This section outlines the process of generating the parsing evaluation report.\n",
    "It will retrieve all profiles from the source and evaluate them.\n",
    "The evaluation will be stored in an Excel file.\n",
    "\n",
    "The Excel workbook consists of various sections, including metadata, personal info, experience, education, and other skills, offering a holistic view of parsing accuracy."
   ]
  },
  {
   "cell_type": "code",
   "execution_count": null,
   "metadata": {},
   "outputs": [],
   "source": [
    "from hrflow.utils import generate_parsing_evaluation_report\n",
    "\n",
    "generate_parsing_evaluation_report(\n",
    "    client,\n",
    "    source_key=SOURCE_KEY,\n",
    "    report_path=REPORT_PATH,\n",
    "    show_progress=True,\n",
    ")"
   ]
  },
  {
   "cell_type": "markdown",
   "metadata": {},
   "source": [
    "The output is an Excel file named `parsing-evaluation.xlsx`, summarizing the parsing accuracy of CVs stored in the specified HrFlow source.\n",
    "\n",
    "The report contains 2 sheets: \n",
    "1. **Definition**: This page explains each field and how to interpret the results.\n",
    "2. **Statistics**: This page presents the comprehensive set of results.\""
   ]
  }
 ],
 "metadata": {
  "kernelspec": {
   "display_name": ".venv",
   "language": "python",
   "name": "python3"
  },
  "language_info": {
   "codemirror_mode": {
    "name": "ipython",
    "version": 3
   },
   "file_extension": ".py",
   "mimetype": "text/x-python",
   "name": "python",
   "nbconvert_exporter": "python",
   "pygments_lexer": "ipython3",
   "version": "3.10.13"
  }
 },
 "nbformat": 4,
 "nbformat_minor": 2
}
