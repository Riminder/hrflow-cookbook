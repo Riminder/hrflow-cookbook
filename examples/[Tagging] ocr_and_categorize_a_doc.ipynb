{
 "cells": [
  {
   "cell_type": "code",
   "execution_count": null,
   "metadata": {},
   "outputs": [],
   "source": [
    "import requests\n",
    "import tqdm\n",
    "import os\n",
    "import json"
   ]
  },
  {
   "cell_type": "code",
   "execution_count": null,
   "metadata": {},
   "outputs": [],
   "source": [
    "API_SECRET = \"\"\n",
    "API_USER = \"\"\n",
    "FILES_FOLDER = \"\""
   ]
  },
  {
   "cell_type": "code",
   "execution_count": null,
   "metadata": {},
   "outputs": [],
   "source": [
    "## Ocr a doc\n",
    "import os\n",
    "from hrflow import Hrflow\n",
    "\n",
    "VALID_EXTENSIONS = [\n",
    "    \".pdf\",\n",
    "    \".png\",\n",
    "    \".jpg\",\n",
    "    \".jpeg\",\n",
    "    \".bmp\",\n",
    "    \".doc\",\n",
    "    \".docx\",\n",
    "    \".rtf\",\n",
    "    \".dotx\",\n",
    "    \".odt\",\n",
    "    \".odp\",\n",
    "    \".ppt\",\n",
    "    \".pptx\",\n",
    "    \".rtf\",\n",
    "    \".msg\",\n",
    "]\n",
    "INVALID_FILENAME = [\".\", \"..\"]\n",
    "def is_valid_extension(file_path):\n",
    "    ext = os.path.splitext(file_path)[1]\n",
    "    if not ext:\n",
    "        return False\n",
    "    return ext in VALID_EXTENSIONS or ext.lower() in VALID_EXTENSIONS\n",
    "\n",
    "\n",
    "def is_valid_filename(file_path):\n",
    "    name = os.path.basename(file_path)\n",
    "    return name not in INVALID_FILENAME\n",
    "\n",
    "def get_files_from_dir(dir_path, is_recurcive):\n",
    "    file_res = []\n",
    "    files_path = os.listdir(dir_path)\n",
    "\n",
    "    for file_path in files_path:\n",
    "        true_path = os.path.join(dir_path, file_path)\n",
    "        if os.path.isdir(true_path) and is_recurcive:\n",
    "            if is_valid_filename(true_path):\n",
    "                file_res += get_files_from_dir(true_path, is_recurcive)\n",
    "            continue\n",
    "        if is_valid_extension(true_path):\n",
    "            file_res.append(true_path)\n",
    "    return file_res"
   ]
  },
  {
   "cell_type": "code",
   "execution_count": null,
   "metadata": {},
   "outputs": [],
   "source": [
    "files_list = get_files_from_dir(FILES_FOLDER,True)\n",
    "files_list"
   ]
  },
  {
   "cell_type": "code",
   "execution_count": null,
   "metadata": {},
   "outputs": [],
   "source": [
    "def tagger(api_secret,api_user,text,labels,context=\"\"):\n",
    "    url = \"https://api.hrflow.ai/v1/text/tagging\"\n",
    "\n",
    "    payload = {\n",
    "        \"algorithm_key\": \"tagger-hrflow-dynamic\",\n",
    "        \"texts\": [text],\n",
    "        \"dynamic_labels\": labels,\n",
    "        \"top_n\": 1,\n",
    "        \"dynamic_context\": context\n",
    "    }\n",
    "    headers = {\n",
    "        \"accept\": \"application/json\",\n",
    "        \"content-type\": \"application/json\",\n",
    "        \"X-API-KEY\": api_secret,\n",
    "        \"X-USER-EMAIL\": api_user,\n",
    "    }\n",
    "\n",
    "    response = requests.post(url, json=payload, headers=headers)\n",
    "    if response.status_code != 200:\n",
    "        print(f\"HTTP error: {response.status_code}\")\n",
    "        return None\n",
    "\n",
    "    response_data = response.json()\n",
    "    if (len(response_data[\"data\"]) > 0 and isinstance(response_data[\"data\"][0], dict) and \n",
    "    \"tags\" in response_data[\"data\"][0] and isinstance(response_data[\"data\"][0][\"tags\"], list) and \n",
    "    len(response_data[\"data\"][0][\"tags\"]) > 0):\n",
    "        tag = response_data[\"data\"][0][\"tags\"][0]\n",
    "    else:\n",
    "        tag = None  \n",
    "    return tag"
   ]
  },
  {
   "cell_type": "code",
   "execution_count": null,
   "metadata": {},
   "outputs": [],
   "source": [
    "from tqdm import tqdm\n",
    "import time\n",
    "failed = []\n",
    "labels = [\"resume\", \"coverletter\", \"references\", \"diploma\", \"certificate\", \"permit\", \"license\", \"passport\"]\n",
    "headers = {\n",
    "  'X-USER-EMAIL': API_USER,\n",
    "  'X-API-KEY': API_SECRET\n",
    "}\n",
    "url = \"https://api.hrflow.ai/v1/text/ocr\"\n",
    "\n",
    "for file_path in tqdm(files_list):\n",
    "    filename = os.path.basename(file_path)\n",
    "    try:\n",
    "        with open(file_path, \"rb\") as file:\n",
    "            payload = {}\n",
    "            files=[('file',(filename,file,'application/pdf'))]\n",
    "            response = requests.request(\"POST\", url, headers=headers, data=payload, files=files)\n",
    "        text = response.json()[\"data\"][\"text\"]\n",
    "        tag = tagger(API_SECRET,API_USER,text,labels)\n",
    "        print(f\"File : {file_path} -> Tag : {tag if tag else 'No categorization'}\")\n",
    "    except Exception as e:\n",
    "        failed.append(file_path)"
   ]
  },
  {
   "cell_type": "code",
   "execution_count": null,
   "metadata": {},
   "outputs": [],
   "source": [
    "if failed:\n",
    "    print(f\"\\nFailed files ({len(failed)}) :\")\n",
    "    for f in failed:\n",
    "        print(f\" - {f}\")"
   ]
  }
 ],
 "metadata": {
  "kernelspec": {
   "display_name": "customers_env",
   "language": "python",
   "name": "python3"
  },
  "language_info": {
   "codemirror_mode": {
    "name": "ipython",
    "version": 3
   },
   "file_extension": ".py",
   "mimetype": "text/x-python",
   "name": "python",
   "nbconvert_exporter": "python",
   "pygments_lexer": "ipython3",
   "version": "3.11.4"
  }
 },
 "nbformat": 4,
 "nbformat_minor": 2
}
