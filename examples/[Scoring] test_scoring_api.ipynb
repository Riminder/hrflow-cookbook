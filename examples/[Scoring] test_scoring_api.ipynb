{
 "cells": [
  {
   "cell_type": "markdown",
   "metadata": {},
   "source": [
    "Open this notebook in Google Colab : [![Open In Colab](https://colab.research.google.com/assets/colab-badge.svg)](link)"
   ]
  },
  {
   "cell_type": "markdown",
   "metadata": {},
   "source": [
    "##### Copyright 2023 HrFlow's AI Research Department\n",
    "\n",
    "Licensed under the Apache License, Version 2.0 (the \"License\");"
   ]
  },
  {
   "cell_type": "code",
   "execution_count": null,
   "metadata": {},
   "outputs": [],
   "source": [
    "# Copyright 2023 HrFlow's AI Research Department. All Rights Reserved.\n",
    "#\n",
    "# Licensed under the Apache License, Version 2.0 (the \"License\");\n",
    "# you may not use this file except in compliance with the License.\n",
    "# You may obtain a copy of the License at\n",
    "#\n",
    "#     http://www.apache.org/licenses/LICENSE-2.0\n",
    "#\n",
    "# Unless required by applicable law or agreed to in writing, software\n",
    "# distributed under the License is distributed on an \"AS IS\" BASIS,\n",
    "# WITHOUT WARRANTIES OR CONDITIONS OF ANY KIND, either express or implied.\n",
    "# See the License for the specific language governing permissions and\n",
    "# limitations under the License.\n",
    "# =============================================================================="
   ]
  },
  {
   "cell_type": "markdown",
   "metadata": {},
   "source": [
    "# ▶️ Getting Started"
   ]
  },
  {
   "cell_type": "code",
   "execution_count": null,
   "metadata": {},
   "outputs": [],
   "source": [
    "!pip install hrflow -q"
   ]
  },
  {
   "cell_type": "markdown",
   "metadata": {},
   "source": [
    "This notebook will prompt you for : \n",
    "- `API_SECRET` : The Read/Write API secret key of your subdomaine. Find it here `https://{subdomain}.hrflow.ai/settings/api/keys`\n",
    "- `API_USER` : Your email address"
   ]
  },
  {
   "cell_type": "code",
   "execution_count": null,
   "metadata": {},
   "outputs": [],
   "source": [
    "import requests\n",
    "from getpass import getpass\n",
    "from urllib.parse import quote\n",
    "\n",
    "from hrflow import Hrflow\n",
    "\n",
    "API_SECRET = getpass(\"API_SECRET\")\n",
    "API_USER = getpass(\"USER_EMAIL_ADDRESS\")                        # Email of the user\n",
    "\n",
    "client = Hrflow(api_secret=API_SECRET, api_user=API_USER)"
   ]
  },
  {
   "cell_type": "markdown",
   "metadata": {},
   "source": [
    "Please fill the following variables with your own information:\n",
    "- `SOURCE_KEY` : Copy your source key from \"Connections/My Sources\" : `https://{subdomain}.hrflow.ai/connections/my-sources`\n",
    "- `BOARD_KEY` : Copy your board key from \"Connections/My Boards\" : `https://{subdomain}.hrflow.ai/connections/my-boards`\n",
    "- `ALGORITHM_KEY` : Create an algorithm then copy its key from \"AI Studio/Algorithms Marketplace\" : `https://{subdomain}.hrflow.ai/studio/algorithms-marketplace`"
   ]
  },
  {
   "cell_type": "code",
   "execution_count": null,
   "metadata": {},
   "outputs": [],
   "source": [
    "SOURCE_KEY = ...                                                # Key of the source\n",
    "BOARD_KEY = ...                                                 # Key of the board\n",
    "ALGORITHM_KEY = ...                                             # Key of the scoring algorithm"
   ]
  },
  {
   "cell_type": "markdown",
   "metadata": {},
   "source": [
    "# 🕵️ Recruiter copilot"
   ]
  },
  {
   "cell_type": "code",
   "execution_count": null,
   "metadata": {},
   "outputs": [],
   "source": [
    "test_job_references = [\n",
    "    \n",
    "    # ---------------------------------------------------------------------------- #\n",
    "    #                           Add test references here                           #\n",
    "    # ---------------------------------------------------------------------------- #\n",
    "    \n",
    "]"
   ]
  },
  {
   "cell_type": "code",
   "execution_count": null,
   "metadata": {},
   "outputs": [],
   "source": [
    "def profile_scoring(job_reference, source_key, board_key, algorithm_key):\n",
    "    source_keys = quote(str([source_key]).replace(\"'\", '\"'))\n",
    "    url = f\"https://api.hrflow.ai/v1/profiles/scoring?      \\\n",
    "        algorithm_key={algorithm_key}&                      \\\n",
    "        use_algorithm=1&                                    \\\n",
    "        job_reference={job_reference}&                      \\\n",
    "        board_key={board_key}&                              \\\n",
    "        source_keys={source_keys}&                          \\\n",
    "        page=1&                                             \\\n",
    "        limit=30&                                           \\\n",
    "        order_by=desc&                                      \\\n",
    "        sort_by=scoring&\"\n",
    "    headers = {\n",
    "        \"accept\": \"application/json\",\n",
    "        \"X-API-KEY\": API_SECRET,\n",
    "        \"X-USER-EMAIL\": API_USER\n",
    "    }\n",
    "    response = requests.get(url, headers=headers)\n",
    "    return response.json()"
   ]
  },
  {
   "cell_type": "code",
   "execution_count": null,
   "metadata": {},
   "outputs": [],
   "source": [
    "response = profile_scoring(test_job_references[0], SOURCE_KEY, BOARD_KEY, ALGORITHM_KEY)\n",
    "\n",
    "if response[\"code\"] == 200:\n",
    "    print(\"🎊 \\033[92mCongrats !\\033[0m You have successfully scored profiles\")\n",
    "else :\n",
    "    print(\"🚨 \\033[91mSomething went wrong !\\033[0m\")\n",
    "    print(response)"
   ]
  },
  {
   "cell_type": "code",
   "execution_count": null,
   "metadata": {},
   "outputs": [],
   "source": [
    "response.keys()"
   ]
  },
  {
   "cell_type": "code",
   "execution_count": null,
   "metadata": {},
   "outputs": [],
   "source": [
    "response[\"data\"].keys()"
   ]
  },
  {
   "cell_type": "code",
   "execution_count": null,
   "metadata": {},
   "outputs": [],
   "source": [
    "response[\"data\"][\"profiles\"][0].keys()"
   ]
  },
  {
   "cell_type": "code",
   "execution_count": null,
   "metadata": {},
   "outputs": [],
   "source": [
    "scores = [score_couple[1] for score_couple in response[\"data\"][\"predictions\"]]\n",
    "profile_references = [profile[\"reference\"] for profile in response[\"data\"][\"profiles\"]]\n",
    "\n",
    "for score, profile_reference in zip(scores, profile_references):\n",
    "    print(f\"Profile \\033[1m{profile_reference}\\033[0m\\t has a score of \\033[1m\\033[92m{score:.3f}\\033[0m\")"
   ]
  },
  {
   "cell_type": "markdown",
   "metadata": {},
   "source": [
    "# 💼 Talent copilot"
   ]
  },
  {
   "cell_type": "code",
   "execution_count": null,
   "metadata": {},
   "outputs": [],
   "source": [
    "test_profile_references = [\n",
    "    \n",
    "    # ---------------------------------------------------------------------------- #\n",
    "    #                           Add test references here                           #\n",
    "    # ---------------------------------------------------------------------------- #\n",
    "    \n",
    "]"
   ]
  },
  {
   "cell_type": "code",
   "execution_count": null,
   "metadata": {},
   "outputs": [],
   "source": [
    "def job_scoring(profile_reference, source_key, board_key, algorithm_key):\n",
    "    board_keys = quote(str([board_key]).replace(\"'\", '\"'))\n",
    "    url = f\"https://api.hrflow.ai/v1/jobs/scoring?      \\\n",
    "        algorithm_key={algorithm_key}&                  \\\n",
    "        use_algorithm=1&                                \\\n",
    "        profile_reference={profile_reference}&          \\\n",
    "        source_key={source_key}&                        \\\n",
    "        board_keys={board_keys}&                        \\\n",
    "        page=1&                                         \\\n",
    "        limit=30&                                       \\\n",
    "        order_by=desc&                                  \\\n",
    "        sort_by=scoring&\"\n",
    "    headers = {\n",
    "        \"accept\": \"application/json\",\n",
    "        \"X-API-KEY\": API_SECRET,\n",
    "        \"X-USER-EMAIL\": API_USER\n",
    "    }\n",
    "    response = requests.get(url, headers=headers)\n",
    "    return response.json()"
   ]
  },
  {
   "cell_type": "code",
   "execution_count": null,
   "metadata": {},
   "outputs": [],
   "source": [
    "response = job_scoring(test_profile_references[0], SOURCE_KEY, BOARD_KEY, ALGORITHM_KEY)\n",
    "\n",
    "if response[\"code\"] == 200:\n",
    "    print(\"🎊 \\033[92mCongrats !\\033[0m You have successfully scored jobs\")\n",
    "else :\n",
    "    print(\"🚨 \\033[91mSomething went wrong !\\033[0m\")\n",
    "    print(response)"
   ]
  },
  {
   "cell_type": "code",
   "execution_count": null,
   "metadata": {},
   "outputs": [],
   "source": [
    "response.keys()"
   ]
  },
  {
   "cell_type": "code",
   "execution_count": null,
   "metadata": {},
   "outputs": [],
   "source": [
    "response[\"data\"].keys()"
   ]
  },
  {
   "cell_type": "code",
   "execution_count": null,
   "metadata": {},
   "outputs": [],
   "source": [
    "response[\"data\"][\"jobs\"][0].keys()"
   ]
  },
  {
   "cell_type": "code",
   "execution_count": null,
   "metadata": {},
   "outputs": [],
   "source": [
    "scores = [score_couple[1] for score_couple in response[\"data\"][\"predictions\"]]\n",
    "job_references = [job[\"reference\"] for job in response[\"data\"][\"jobs\"]]\n",
    "\n",
    "for score, job_reference in zip(scores, job_references):\n",
    "    print(f\"Profile \\033[1m{job_reference}\\033[0m\\t has a score of \\033[1m\\033[92m{score:.3f}\\033[0m\")"
   ]
  }
 ],
 "metadata": {
  "kernelspec": {
   "display_name": "metrics-x8JB1Okq-py3.9",
   "language": "python",
   "name": "python3"
  },
  "language_info": {
   "codemirror_mode": {
    "name": "ipython",
    "version": 3
   },
   "file_extension": ".py",
   "mimetype": "text/x-python",
   "name": "python",
   "nbconvert_exporter": "python",
   "pygments_lexer": "ipython3",
   "version": "3.9.13"
  },
  "orig_nbformat": 4
 },
 "nbformat": 4,
 "nbformat_minor": 2
}
